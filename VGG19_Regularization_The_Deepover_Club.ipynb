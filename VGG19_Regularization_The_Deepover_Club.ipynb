{
  "nbformat": 4,
  "nbformat_minor": 0,
  "metadata": {
    "accelerator": "GPU",
    "colab": {
      "name": "VGG19 Regularization - The Deepover Club.ipynb",
      "provenance": [],
      "collapsed_sections": []
    },
    "kernelspec": {
      "display_name": "Python 3",
      "language": "python",
      "name": "python3"
    },
    "language_info": {
      "codemirror_mode": {
        "name": "ipython",
        "version": 3
      },
      "file_extension": ".py",
      "mimetype": "text/x-python",
      "name": "python",
      "nbconvert_exporter": "python",
      "pygments_lexer": "ipython3",
      "version": "3.7.9"
    }
  },
  "cells": [
    {
      "cell_type": "markdown",
      "metadata": {
        "id": "mL0_4wIAL679"
      },
      "source": [
        "VGG 19 con input 600x400 - Regularization\n"
      ]
    },
    {
      "cell_type": "code",
      "metadata": {
        "id": "qpTLUOVSrxPS"
      },
      "source": [
        "import os\n",
        "import json\n",
        "import tensorflow as tf\n",
        "import numpy as np\n",
        "import pandas as pd\n",
        "from tensorflow import keras"
      ],
      "execution_count": 1,
      "outputs": []
    },
    {
      "cell_type": "code",
      "metadata": {
        "id": "W9yJbXnY-ur9"
      },
      "source": [
        "#This to allow reproducibilty\n",
        "SEED = 1234\n",
        "tf.random.set_seed(SEED)\n",
        "np.random.seed(SEED)"
      ],
      "execution_count": 2,
      "outputs": []
    },
    {
      "cell_type": "code",
      "metadata": {
        "colab": {
          "base_uri": "https://localhost:8080/"
        },
        "id": "ub1PU5lQQseV",
        "outputId": "72173ada-8a85-4234-83bc-0770a621001c"
      },
      "source": [
        "#Access to GoogleDrive and set dataframe directory\n",
        "from google.colab import drive\n",
        "drive.mount('/content/drive')"
      ],
      "execution_count": 3,
      "outputs": [
        {
          "output_type": "stream",
          "text": [
            "Mounted at /content/drive\n"
          ],
          "name": "stdout"
        }
      ]
    },
    {
      "cell_type": "code",
      "metadata": {
        "id": "eAWRQoObQsNh"
      },
      "source": [
        "dataset_dir = \"/content/drive/My Drive/DeepLearning/Image Classification/MaskDataset\""
      ],
      "execution_count": 4,
      "outputs": []
    },
    {
      "cell_type": "code",
      "metadata": {
        "id": "eH8-SK8psRi8"
      },
      "source": [
        "#Load dataset and \"make\" it categorical, and so following path data/training/class_1/img_1, img_2 ...\n",
        "with open(os.path.join(dataset_dir,\"train_gt.json\")) as train_label:\n",
        "    train_dict = json.load(train_label)\n",
        "\n",
        "dataframe = pd.DataFrame(train_dict.items())\n",
        "dataframe.rename(columns = {0:'filename', 1:'class'}, inplace = True)\n",
        "dataframe[\"class\"] = dataframe[\"class\"].astype(str)                             #cast \"class\" to string\n",
        "dataframe = dataframe.sample(frac=1).reset_index(drop=True)                     #shuffle dataframe (Keras performs it after splitting so having images ordered by class is ineffective)"
      ],
      "execution_count": 5,
      "outputs": []
    },
    {
      "cell_type": "code",
      "metadata": {
        "id": "vgdUbTwUC_a9"
      },
      "source": [
        "#Data Augmentation performed on Training set\n",
        "from tensorflow.keras.preprocessing.image import ImageDataGenerator\n",
        "from tensorflow.keras.applications import VGG19\n",
        "from tensorflow.keras.applications.vgg19 import preprocess_input \n",
        "\n",
        "\n",
        "img_h = 400\n",
        "img_w = 600\n",
        "#This should allow us to make classes detailed with a description, but do no work :(\n",
        "class_detailed = ['NO_PERSON', \n",
        "                  'ALL_PEOPLE', \n",
        "                  'SOMEONE']\n",
        "training_dir = os.path.join(dataset_dir,'training')\n",
        "\n",
        "#No zoom, rotating and anything that let image \"lose information\" since those transformations can modify image class\n",
        "train_data_gen = ImageDataGenerator(horizontal_flip=True,\n",
        "                                    vertical_flip=True,\n",
        "                                    rescale=1/255.,\n",
        "                                    validation_split=0.10,\n",
        "                                    preprocessing_function = preprocess_input)\n",
        "\n",
        "train_set_gen = train_data_gen.flow_from_dataframe(dataframe,\n",
        "                                                   training_dir,\n",
        "                                                   batch_size=16,\n",
        "                                                   target_size=(img_h, img_w),\n",
        "                                                   #classes=class_detailed,\n",
        "                                                   class_mode='categorical',\n",
        "                                                   subset='training',\n",
        "                                                   shuffle=True,\n",
        "                                                   seed=SEED)\n",
        "\n",
        "#Operating in this way Augmentation is performed only on Training data (Validation set has fresh generator)\n",
        "validation_data_gen = ImageDataGenerator(rescale=1/255.,\n",
        "                                         validation_split=0.10,\n",
        "                                         preprocessing_function=preprocess_input)\n",
        "\n",
        "\n",
        "valid_set_gen = validation_data_gen.flow_from_dataframe(dataframe,\n",
        "                                                        training_dir,\n",
        "                                                        batch_size=16,\n",
        "                                                        target_size=(img_h, img_w),\n",
        "                                                        #classes=class_detailed,\n",
        "                                                        class_mode='categorical',  \n",
        "                                                        subset='validation',\n",
        "                                                        shuffle=True,\n",
        "                                                        seed=SEED)\n",
        "\n",
        "\n",
        "count = 0\n",
        "for image in valid_set_gen.filenames:\n",
        "  for image2 in train_set_gen.filenames:\n",
        "    if(image == image2):\n",
        "      count+=1\n",
        "print(\"Common image among sets: \" + str(count))         #checking for disjointness of validation and training set\n",
        "\n",
        "\n",
        "count_0 = 0\n",
        "count_1 = 0\n",
        "count_2 = 0\n",
        "for classes in valid_set_gen.classes:\n",
        "  if classes == 0:\n",
        "    count_0 += 1\n",
        "  if classes == 1:\n",
        "    count_1 += 1\n",
        "  if classes == 2:\n",
        "    count_2 += 1\n",
        "print(\"Image of class 0 #\" + str(count_0))\n",
        "print(\"Image of class 1 #\" + str(count_1))\n",
        "print(\"Image of class 2 #\" + str(count_2))               #checking image distribution w.r.t classes among validation set "
      ],
      "execution_count": null,
      "outputs": []
    },
    {
      "cell_type": "code",
      "metadata": {
        "id": "gaQnLh3_Orez"
      },
      "source": [
        "#Now let's shape train, validation set.\n",
        "num_classes = 3\n",
        "\n",
        "#TRAINING\n",
        "training_set = tf.data.Dataset.from_generator(lambda: train_set_gen,\n",
        "                                              output_types=(tf.float32, tf.float32),\n",
        "                                              output_shapes=([None, img_h,img_w,3], [None, num_classes]))\n",
        "training_set = training_set.repeat()\n",
        "\n",
        "#VALIDATION\n",
        "validation_set = tf.data.Dataset.from_generator(lambda: valid_set_gen,\n",
        "                                                output_types=(tf.float32, tf.float32),\n",
        "                                                output_shapes=([None, img_h,img_w,3], [None, num_classes]))\n",
        "validation_set = validation_set.repeat()"
      ],
      "execution_count": null,
      "outputs": []
    },
    {
      "cell_type": "code",
      "metadata": {
        "id": "cq4kDsaFeeC6"
      },
      "source": [
        "#This allow us to see the images fed to our NN\n",
        "import matplotlib.pyplot as plt\n",
        "%matplotlib inline\n",
        "\n",
        "iterator = iter(training_set)\n",
        "augmented_img, target = next(iterator)\n",
        "\n",
        "augmented_img = np.array(augmented_img[0])\n",
        "augmented_img = augmented_img * 255\n",
        "\n",
        "plt.imshow(np.uint8(augmented_img))\n",
        "plt.plot()"
      ],
      "execution_count": null,
      "outputs": []
    },
    {
      "cell_type": "code",
      "metadata": {
        "id": "H1dAhzGlrQOx"
      },
      "source": [
        "# Load VGG19\n",
        "pre_trained_model = VGG19(input_shape=(img_h,img_w,3), include_top=False, weights=\"imagenet\")"
      ],
      "execution_count": null,
      "outputs": []
    },
    {
      "cell_type": "code",
      "metadata": {
        "id": "JHwBZ2xIrjJ1"
      },
      "source": [
        "pre_trained_model.summary()"
      ],
      "execution_count": null,
      "outputs": []
    },
    {
      "cell_type": "code",
      "metadata": {
        "id": "gL2dc0-iqfc4"
      },
      "source": [
        "# Create CNN model\n",
        "finetuning = True\n",
        "\n",
        "if finetuning:\n",
        "    freeze_until = 18 # layer from which we want to fine-tune\n",
        "    \n",
        "    for layer in pre_trained_model.layers[:freeze_until]:\n",
        "        layer.trainable = False\n",
        "else:\n",
        "    pre_trained_model.trainable = False\n",
        "\n",
        "#Add CNN to model\n",
        "model = tf.keras.Sequential()\n",
        "model.add(pre_trained_model)\n",
        "\n",
        "#Add FCNN part (CNN top)\n",
        "model.add(tf.keras.layers.Flatten())\n",
        "model.add(tf.keras.layers.Dense(units=128, activation='relu', kernel_regularizer='l2'))\n",
        "model.add(tf.keras.layers.Dropout(rate=0.6))\n",
        "model.add(tf.keras.layers.Dense(units=64, activation='relu'))\n",
        "model.add(tf.keras.layers.Dense(units=num_classes, activation='softmax'))"
      ],
      "execution_count": null,
      "outputs": []
    },
    {
      "cell_type": "code",
      "metadata": {
        "id": "lftI67XtlLIo"
      },
      "source": [
        "model.summary()"
      ],
      "execution_count": null,
      "outputs": []
    },
    {
      "cell_type": "code",
      "metadata": {
        "id": "BJjvzefkq3v9"
      },
      "source": [
        "loss = tf.keras.losses.CategoricalCrossentropy()\n",
        "lr = 5e-5\n",
        "optimizer = tf.keras.optimizers.Adam(learning_rate=lr)\n",
        "metrics = ['accuracy']\n",
        "\n",
        "model.compile(optimizer=optimizer, loss=loss, metrics=metrics)"
      ],
      "execution_count": null,
      "outputs": []
    },
    {
      "cell_type": "code",
      "metadata": {
        "id": "QpWA9Eyao6y2"
      },
      "source": [
        "callbacks = []\n",
        "\n",
        "es_callback = tf.keras.callbacks.EarlyStopping(monitor='val_loss', patience=8, restore_best_weights=True)\n",
        "callbacks.append(es_callback)"
      ],
      "execution_count": null,
      "outputs": []
    },
    {
      "cell_type": "code",
      "metadata": {
        "id": "QXR19Dw1jRez"
      },
      "source": [
        "history = model.fit(x=training_set,\n",
        "                    epochs=100,\n",
        "                    steps_per_epoch=len(train_set_gen),\n",
        "                    validation_data=validation_set,\n",
        "                    validation_steps=len(valid_set_gen),\n",
        "                    callbacks=callbacks)"
      ],
      "execution_count": null,
      "outputs": []
    },
    {
      "cell_type": "markdown",
      "metadata": {
        "id": "4oUQUO4LTwm2"
      },
      "source": [
        "Notice that adding the *Regularization term* allow us to perfrom, on the same network with same hyperparameters, about **10% increase of performance**.\n",
        "This again to underline how much is important this aspect inside deep NN."
      ]
    },
    {
      "cell_type": "code",
      "metadata": {
        "id": "LqeraFBI4rYC"
      },
      "source": [
        "# summarize history for accuracy\n",
        "plt.plot(history.history['accuracy'])\n",
        "plt.plot(history.history['val_accuracy'])\n",
        "plt.title('model accuracy')\n",
        "plt.ylabel('accuracy')\n",
        "plt.xlabel('epoch')\n",
        "plt.legend(['train', 'validation'], loc='upper left')\n",
        "plt.show()\n",
        "\n",
        "# summarize history for loss\n",
        "plt.plot(history.history['loss'])\n",
        "plt.plot(history.history['val_loss'])\n",
        "plt.title('model loss')\n",
        "plt.ylabel('loss')\n",
        "plt.xlabel('epoch')\n",
        "plt.legend(['train', 'validation'], loc='upper right')\n",
        "plt.show()"
      ],
      "execution_count": null,
      "outputs": []
    },
    {
      "cell_type": "code",
      "metadata": {
        "id": "aXtJktSUbJNG"
      },
      "source": [
        "import os\n",
        "from datetime import datetime\n",
        "\n",
        "def create_csv(results, results_dir):\n",
        "\n",
        "    csv_fname = 'results_'\n",
        "    csv_fname += datetime.now().strftime('%b%d_%H-%M-%S') + '.csv'\n",
        "\n",
        "    with open(os.path.join(results_dir, csv_fname), 'w') as f:\n",
        "\n",
        "        f.write('Id,Category\\n')\n",
        "\n",
        "        for key, value in results.items():\n",
        "            f.write(key + ',' + str(value) + '\\n')"
      ],
      "execution_count": null,
      "outputs": []
    },
    {
      "cell_type": "code",
      "metadata": {
        "id": "bDt9THg2bKCd"
      },
      "source": [
        "from PIL import Image\n",
        "\n",
        "dataset_dir_test = os.path.join(dataset_dir,\"test\") #Path di questo tipo /content/drive/My Drive/DeepLearning/Image Classification/MaskDataset/test\n",
        "image_filenames = next(os.walk(dataset_dir_test))[2]\n",
        "\n",
        "results = {}\n",
        "for image_name in image_filenames:\n",
        "\n",
        "  img = Image.open(os.path.join(dataset_dir_test, image_name)).convert('RGB')\n",
        "  img = img.resize((img_h, img_w))\n",
        "  img_array = np.array(img)\n",
        "  img_array = np.expand_dims(img_array, 0) \n",
        "  img_array = preprocess_input(img_array)\n",
        "\n",
        "  prediction = model.predict(img_array)\n",
        "  results[image_name] = np.argmax(np.matrix(prediction))\n",
        "\n",
        "create_csv(results, os.path.join(dataset_dir,\"Results/Comune\"))"
      ],
      "execution_count": null,
      "outputs": []
    }
  ]
}